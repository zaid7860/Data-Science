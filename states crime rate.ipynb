{
 "cells": [
  {
   "cell_type": "code",
   "execution_count": 118,
   "metadata": {},
   "outputs": [
    {
     "data": {
      "image/png": "[encoded data removed]",
      "text/plain": [
       "<Figure size 432x288 with 1 Axes>"
      ]
     },
     "metadata": {},
     "output_type": "display_data"
    },
    {
     "data": {
      "text/plain": [
       "1    Arunachal Pradesh\n",
       "2                Assam\n",
       "3                Bihar\n",
       "4         Chhattisgarh\n",
       "Name: State, dtype: object"
      ]
     },
     "metadata": {},
     "output_type": "display_data"
    }
   ],
   "source": [
    "%matplotlib inline\n",
    "from scipy.stats import norm\n",
    "import matplotlib.pyplot as plt\n",
    "import numpy as np\n",
    "import pandas as pd\n",
    "width = 1\n",
    "colors = ['r', 'g', 'b', 'c', 'm']\n",
    "\n",
    "\n",
    "df =  pd.read_csv('/Users/zaid/Desktop/Ipython/poverty.csv')\n",
    "x = df['State'][1:5]\n",
    "y = df['Total - %age of Persons'][1:5]\n",
    "labels =  x.loc[ :'Chhattisgarh']\n",
    "\n",
    "plt.pie(y, labels=labels,colors= colors,)\n",
    "\n",
    "plt.show()\n",
    "display(lables)\n",
    "#['Arunachal Pradesh','Assam','Bihar','Chhattisgarh']"
   ]
  },
  {
   "cell_type": "code",
   "execution_count": null,
   "metadata": {},
   "outputs": [],
   "source": []
  },
  {
   "cell_type": "code",
   "execution_count": null,
   "metadata": {},
   "outputs": [],
   "source": []
  }
 ],
 "metadata": {
  "kernelspec": {
   "display_name": "Python 3",
   "language": "python",
   "name": "python3"
  },
  "language_info": {
   "codemirror_mode": {
    "name": "ipython",
    "version": 3
   },
   "file_extension": ".py",
   "mimetype": "text/x-python",
   "name": "python",
   "nbconvert_exporter": "python",
   "pygments_lexer": "ipython3",
   "version": "3.7.1"
  }
 },
 "nbformat": 4,
 "nbformat_minor": 2
}
